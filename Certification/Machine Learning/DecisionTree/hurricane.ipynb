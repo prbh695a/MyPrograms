{
 "cells": [
  {
   "cell_type": "code",
   "execution_count": 30,
   "metadata": {},
   "outputs": [
    {
     "data": {
      "image/png": "[encoded data removed]",
      "text/plain": [
       "<Figure size 432x288 with 1 Axes>"
      ]
     },
     "metadata": {
      "needs_background": "light"
     },
     "output_type": "display_data"
    },
    {
     "name": "stdout",
     "output_type": "stream",
     "text": [
      "The train accuracy of the model is  0.9969869434214932\n",
      "The test accuracy of the model is  0.9743687834736037\n"
     ]
    }
   ],
   "source": [
    "import pandas as pd\n",
    "import numpy as np\n",
    "from sklearn.model_selection import train_test_split\n",
    "from sklearn import tree\n",
    "from sklearn.metrics import accuracy_score\n",
    "from sklearn.ensemble import RandomForestClassifier\n",
    "import seaborn as sns\n",
    "import matplotlib.pyplot as plt\n",
    "df=pd.read_csv(\"/Users/prateekb/Downloads/PythonPractice/Machine Learning/DecisionTree/pacific.csv\")\n",
    "\n",
    "df.Status=pd.Categorical(df.Status)\n",
    "df['Status']=df.Status.cat.codes\n",
    "\n",
    "sns.countplot(df['Status'],label='count')\n",
    "plt.show()\n",
    "\n",
    "df=df.drop(['ID','Name','Event','Latitude','Longitude'],axis=1)\n",
    "\n",
    "x=df[['Date', 'Time', 'Maximum Wind', 'Minimum Pressure',\n",
    "       'Low Wind NE', 'Low Wind SE', 'Low Wind SW', 'Low Wind NW',\n",
    "       'Moderate Wind NE', 'Moderate Wind SE', 'Moderate Wind SW',\n",
    "       'Moderate Wind NW', 'High Wind NE', 'High Wind SE', 'High Wind SW',\n",
    "       'High Wind NW']]\n",
    "y=df['Status']\n",
    "\n",
    "X_train,X_test,Y_train,Y_test=train_test_split(x,y,test_size=.2,random_state=43)\n",
    "tc=tree.DecisionTreeClassifier()\n",
    "tc.fit(X_train,Y_train)\n",
    "Y_pred=tc.predict(X_test)\n",
    "Y_pred_train=tc.predict(X_train)\n",
    "\n",
    "print(\"The train accuracy of the model is \",accuracy_score(Y_train,Y_pred_train))\n",
    "print(\"The test accuracy of the model is \",accuracy_score(Y_test,Y_pred))"
   ]
  },
  {
   "cell_type": "code",
   "execution_count": 32,
   "metadata": {},
   "outputs": [
    {
     "name": "stdout",
     "output_type": "stream",
     "text": [
      "The train accuracy of the model is  0.9969869434214932\n",
      "The test accuracy of the model is  0.9609793420045907\n"
     ]
    }
   ],
   "source": [
    "rf=RandomForestClassifier(n_estimators=100)\n",
    "rf.fit(X_train,Y_train)\n",
    "Y_pred=rf.predict(X_test)\n",
    "Y_pred_train=rf.predict(X_train)\n",
    "\n",
    "print(\"The train accuracy of the model is \",accuracy_score(Y_train,Y_pred_train))\n",
    "print(\"The test accuracy of the model is \",accuracy_score(Y_test,Y_pred))"
   ]
  },
  {
   "cell_type": "code",
   "execution_count": 25,
   "metadata": {},
   "outputs": [],
   "source": []
  },
  {
   "cell_type": "code",
   "execution_count": null,
   "metadata": {},
   "outputs": [],
   "source": []
  }
 ],
 "metadata": {
  "kernelspec": {
   "display_name": "Python 3",
   "language": "python",
   "name": "python3"
  },
  "language_info": {
   "codemirror_mode": {
    "name": "ipython",
    "version": 3
   },
   "file_extension": ".py",
   "mimetype": "text/x-python",
   "name": "python",
   "nbconvert_exporter": "python",
   "pygments_lexer": "ipython3",
   "version": "3.7.6"
  }
 },
 "nbformat": 4,
 "nbformat_minor": 4
}
