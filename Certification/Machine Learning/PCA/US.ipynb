{
 "cells": [
  {
   "cell_type": "code",
   "execution_count": 17,
   "metadata": {},
   "outputs": [
    {
     "name": "stdout",
     "output_type": "stream",
     "text": [
      "[0.91808789 0.060556  ]\n"
     ]
    }
   ],
   "source": [
    "import pandas as pd\n",
    "import numpy as np\n",
    "import matplotlib.pyplot as plt\n",
    "from sklearn.decomposition import PCA\n",
    "df=pd.read_csv(\"/Users/prateekb/Downloads/PythonPractice/Machine Learning/PCA/trans_us.csv\",index_col=0,thousands=',')\n",
    "df.index.names=['Stations']\n",
    "df.columns.names=['Months']\n",
    "df=df.fillna(15)\n",
    "\n",
    "pca=PCA(n_components=2)\n",
    "pca.fit(df)\n",
    "tdf=pca.transform(df)\n",
    "\n",
    "ndf=pd.DataFrame(tdf)\n",
    "ndf.index=df.index\n",
    "ndf.columns=['PC1','PC2']\n",
    "\n",
    "print(pca.explained_variance_ratio_)"
   ]
  },
  {
   "cell_type": "code",
   "execution_count": null,
   "metadata": {},
   "outputs": [],
   "source": []
  },
  {
   "cell_type": "code",
   "execution_count": null,
   "metadata": {},
   "outputs": [],
   "source": []
  }
 ],
 "metadata": {
  "kernelspec": {
   "display_name": "Python 3",
   "language": "python",
   "name": "python3"
  },
  "language_info": {
   "codemirror_mode": {
    "name": "ipython",
    "version": 3
   },
   "file_extension": ".py",
   "mimetype": "text/x-python",
   "name": "python",
   "nbconvert_exporter": "python",
   "pygments_lexer": "ipython3",
   "version": "3.7.6"
  }
 },
 "nbformat": 4,
 "nbformat_minor": 4
}
