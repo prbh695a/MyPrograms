{
 "cells": [
  {
   "cell_type": "code",
   "execution_count": 393,
   "metadata": {},
   "outputs": [
    {
     "name": "stderr",
     "output_type": "stream",
     "text": [
      "/Users/prateekb/anaconda3/lib/python3.7/site-packages/IPython/core/interactiveshell.py:3063: DtypeWarning: Columns (3) have mixed types.Specify dtype option on import or set low_memory=False.\n",
      "  interactivity=interactivity, compiler=compiler, result=result)\n"
     ]
    },
    {
     "name": "stdout",
     "output_type": "stream",
     "text": [
      "We are finding recommendation for user id 14\n",
      "The recommendation for this user is book with title...\n",
      "Wild Animus\n"
     ]
    }
   ],
   "source": [
    "import pandas as pd\n",
    "import numpy as np\n",
    "dfBook=pd.read_csv(\"/Users/prateekb/Downloads/MyPrograms/Certification/WIP/Machine Learning/Recommendation/BX-Books.csv\"\n",
    "                   ,encoding='latin-1')\n",
    "dfRating=pd.read_csv(\"/Users/prateekb/Downloads/MyPrograms/Certification/WIP/Machine Learning/Recommendation/BX-Book-Ratings.csv\",\n",
    "                    encoding='latin-1')\n",
    "dfRating.drop_duplicates()\n",
    "dfRating=dfRating.head(10000)\n",
    "dfRating=dfRating[dfRating['isbn'].str.isdigit()]\n",
    "dfRating['isbn']=dfRating['isbn'].astype('int')\n",
    "\n",
    "newMap=pd.Series(sorted(dfRating['user_id'].unique())).to_dict()\n",
    "\n",
    "bookrating=dfRating.pivot(index='user_id',columns='isbn',values='rating').fillna(-999999)\n",
    "from sklearn.metrics import pairwise_distances\n",
    "#from scipy.spatial.distance import cosine,correlation\n",
    "dsim= pairwise_distances(bookrating.values,metric='cosine')\n",
    "sim=1-dsim\n",
    "np.fill_diagonal(sim,0)\n",
    "user_simdf=pd.DataFrame(sim)\n",
    "sUser=pd.DataFrame(user_simdf.idxmax(axis=1),columns=['U1'])\n",
    "sUser['dummyUID']=pd.DataFrame({'dummyUID':genRange()})\n",
    "sUser['User1']=sUser['dummyUID'].map(newMap)\n",
    "sUser['User2']=sUser['U1'].map(newMap)\n",
    "sUser=sUser.drop(['U1','dummyUID'],axis=1)\n",
    "\n",
    "findId=14\n",
    "print(\"We are finding recommendation for user id\",findId)\n",
    "print(\"The recommendation for this user is book with title...\")\n",
    "similarUser=sUser[sUser['User1']==findId]['User2'].values[0]\n",
    "recommend=dfRating[dfRating['user_id']==similarUser]\n",
    "for i,j in recommend['isbn'].iteritems():\n",
    "    #print(j)\n",
    "    book=dfBook[dfBook['isbn']==str(j)]\n",
    "    for k,l in book['book_title'].iteritems():\n",
    "        print(l)\n"
   ]
  },
  {
   "cell_type": "code",
   "execution_count": null,
   "metadata": {},
   "outputs": [],
   "source": []
  },
  {
   "cell_type": "code",
   "execution_count": 336,
   "metadata": {},
   "outputs": [],
   "source": []
  },
  {
   "cell_type": "code",
   "execution_count": null,
   "metadata": {},
   "outputs": [],
   "source": []
  },
  {
   "cell_type": "code",
   "execution_count": null,
   "metadata": {},
   "outputs": [],
   "source": []
  },
  {
   "cell_type": "code",
   "execution_count": null,
   "metadata": {},
   "outputs": [],
   "source": []
  },
  {
   "cell_type": "code",
   "execution_count": 340,
   "metadata": {},
   "outputs": [],
   "source": [
    "\n"
   ]
  },
  {
   "cell_type": "code",
   "execution_count": null,
   "metadata": {},
   "outputs": [],
   "source": []
  },
  {
   "cell_type": "code",
   "execution_count": null,
   "metadata": {},
   "outputs": [],
   "source": []
  },
  {
   "cell_type": "code",
   "execution_count": 341,
   "metadata": {},
   "outputs": [],
   "source": [
    "\n"
   ]
  },
  {
   "cell_type": "code",
   "execution_count": null,
   "metadata": {},
   "outputs": [],
   "source": [
    "\n"
   ]
  },
  {
   "cell_type": "code",
   "execution_count": null,
   "metadata": {},
   "outputs": [],
   "source": []
  },
  {
   "cell_type": "code",
   "execution_count": 331,
   "metadata": {},
   "outputs": [],
   "source": []
  },
  {
   "cell_type": "code",
   "execution_count": null,
   "metadata": {},
   "outputs": [],
   "source": []
  },
  {
   "cell_type": "code",
   "execution_count": null,
   "metadata": {},
   "outputs": [],
   "source": []
  },
  {
   "cell_type": "code",
   "execution_count": null,
   "metadata": {},
   "outputs": [],
   "source": []
  },
  {
   "cell_type": "code",
   "execution_count": null,
   "metadata": {},
   "outputs": [],
   "source": []
  },
  {
   "cell_type": "code",
   "execution_count": null,
   "metadata": {},
   "outputs": [],
   "source": []
  },
  {
   "cell_type": "code",
   "execution_count": null,
   "metadata": {},
   "outputs": [],
   "source": []
  },
  {
   "cell_type": "code",
   "execution_count": null,
   "metadata": {},
   "outputs": [],
   "source": []
  }
 ],
 "metadata": {
  "kernelspec": {
   "display_name": "Python 3",
   "language": "python",
   "name": "python3"
  },
  "language_info": {
   "codemirror_mode": {
    "name": "ipython",
    "version": 3
   },
   "file_extension": ".py",
   "mimetype": "text/x-python",
   "name": "python",
   "nbconvert_exporter": "python",
   "pygments_lexer": "ipython3",
   "version": "3.7.6"
  }
 },
 "nbformat": 4,
 "nbformat_minor": 4
}
