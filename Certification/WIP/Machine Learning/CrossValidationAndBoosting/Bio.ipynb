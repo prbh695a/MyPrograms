{
 "cells": [
  {
   "cell_type": "code",
   "execution_count": 8,
   "metadata": {},
   "outputs": [],
   "source": [
    "import pandas as pd\n",
    "df=pd.read_csv(\"/Users/prateekb/Downloads/MyPrograms/Certification/WIP/Machine Learning/CrossValidationAndBoosting/bio-degradabale-data.csv\",\n",
    "              sep=';',header=None)\n",
    "df.columns=['A1','A2','A3','A4','A5','A6','A7','A8','A9','A10',\n",
    "'A11','A12','A13','A14','A15','A16','A17','A18','A19','A20',\n",
    "'A21','A22','A23','A24','A25','A26','A27','A28','A29','A30',\n",
    "'A31','A32','A33','A34','A35','A36','A37','A38','A39','A40','A41','A42']\n",
    "df['A42'].unique()\n",
    "df['A42']=df['A42'].map({'RB':1,'NRB':0})\n",
    "X=df.iloc[:,0:41]\n",
    "Y=df['A42']"
   ]
  },
  {
   "cell_type": "code",
   "execution_count": null,
   "metadata": {},
   "outputs": [],
   "source": []
  },
  {
   "cell_type": "code",
   "execution_count": 11,
   "metadata": {},
   "outputs": [],
   "source": [
    "from sklearn.model_selection import train_test_split\n",
    "X_train,X_test,Y_train,Y_test=train_test_split(X,Y,test_size=.2,random_state=30)"
   ]
  },
  {
   "cell_type": "code",
   "execution_count": 14,
   "metadata": {},
   "outputs": [
    {
     "name": "stdout",
     "output_type": "stream",
     "text": [
      "The test accuracy with Decision Tree is: 0.8388625592417062\n",
      "The test accuracy after Boosting is: 0.8530805687203792\n"
     ]
    }
   ],
   "source": [
    "from sklearn.tree import DecisionTreeClassifier\n",
    "from sklearn.ensemble import AdaBoostClassifier\n",
    "from sklearn.metrics import accuracy_score\n",
    "\n",
    "dt=DecisionTreeClassifier()\n",
    "dt.fit(X_train,Y_train)\n",
    "Y_pred=dt.predict(X_test)\n",
    "print(\"The test accuracy with Decision Tree is:\",accuracy_score(Y_pred,Y_test))\n",
    "\n",
    "dt=DecisionTreeClassifier()\n",
    "abc=AdaBoostClassifier(base_estimator=dt,n_estimators=30)\n",
    "abc.fit(X_train,Y_train)\n",
    "Y_pred=abc.predict(X_test)\n",
    "print(\"The test accuracy after Boosting is:\",accuracy_score(Y_pred,Y_test))"
   ]
  },
  {
   "cell_type": "code",
   "execution_count": 17,
   "metadata": {},
   "outputs": [
    {
     "name": "stderr",
     "output_type": "stream",
     "text": [
      "/Users/prateekb/anaconda3/lib/python3.7/site-packages/sklearn/linear_model/_logistic.py:940: ConvergenceWarning: lbfgs failed to converge (status=1):\n",
      "STOP: TOTAL NO. of ITERATIONS REACHED LIMIT.\n",
      "\n",
      "Increase the number of iterations (max_iter) or scale the data as shown in:\n",
      "    https://scikit-learn.org/stable/modules/preprocessing.html\n",
      "Please also refer to the documentation for alternative solver options:\n",
      "    https://scikit-learn.org/stable/modules/linear_model.html#logistic-regression\n",
      "  extra_warning_msg=_LOGISTIC_SOLVER_CONVERGENCE_MSG)\n"
     ]
    },
    {
     "name": "stdout",
     "output_type": "stream",
     "text": [
      "The test accuracy with Decision Tree is: 0.8957345971563981\n",
      "The test accuracy after Boosting is: 0.8815165876777251\n"
     ]
    }
   ],
   "source": [
    "from sklearn.linear_model import LogisticRegression\n",
    "from sklearn.ensemble import AdaBoostClassifier\n",
    "from sklearn.metrics import accuracy_score\n",
    "\n",
    "dt=LogisticRegression()\n",
    "dt.fit(X_train,Y_train)\n",
    "Y_pred=dt.predict(X_test)\n",
    "print(\"The test accuracy with Decision Tree is:\",accuracy_score(Y_pred,Y_test))\n",
    "\n",
    "dt=LogisticRegression()\n",
    "abc=AdaBoostClassifier(base_estimator=dt,n_estimators=30)\n",
    "abc.fit(X_train,Y_train)\n",
    "Y_pred=abc.predict(X_test)\n",
    "print(\"The test accuracy after Boosting is:\",accuracy_score(Y_pred,Y_test))"
   ]
  },
  {
   "cell_type": "code",
   "execution_count": null,
   "metadata": {},
   "outputs": [],
   "source": []
  },
  {
   "cell_type": "code",
   "execution_count": null,
   "metadata": {},
   "outputs": [],
   "source": []
  },
  {
   "cell_type": "code",
   "execution_count": null,
   "metadata": {},
   "outputs": [],
   "source": []
  },
  {
   "cell_type": "code",
   "execution_count": null,
   "metadata": {},
   "outputs": [],
   "source": []
  }
 ],
 "metadata": {
  "kernelspec": {
   "display_name": "Python 3",
   "language": "python",
   "name": "python3"
  },
  "language_info": {
   "codemirror_mode": {
    "name": "ipython",
    "version": 3
   },
   "file_extension": ".py",
   "mimetype": "text/x-python",
   "name": "python",
   "nbconvert_exporter": "python",
   "pygments_lexer": "ipython3",
   "version": "3.7.6"
  }
 },
 "nbformat": 4,
 "nbformat_minor": 4
}
