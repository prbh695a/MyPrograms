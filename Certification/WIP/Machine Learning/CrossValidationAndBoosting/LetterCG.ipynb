{
 "cells": [
  {
   "cell_type": "code",
   "execution_count": 32,
   "metadata": {},
   "outputs": [],
   "source": [
    "import pandas as pd\n",
    "df=pd.read_csv(\"/Users/prateekb/Downloads/MyPrograms/Certification/WIP/Machine Learning/CrossValidationAndBoosting/letterCG.csv\",\n",
    "              sep=\" \")\n",
    "df=df.drop(['yegvx','Unnamed: 18'],axis=1)"
   ]
  },
  {
   "cell_type": "code",
   "execution_count": 35,
   "metadata": {},
   "outputs": [],
   "source": [
    "X=df.drop(['Class'],axis=1)\n",
    "Y=df[['Class']]\n",
    "from sklearn.model_selection import train_test_split\n",
    "X_train,X_test,Y_train,Y_test=train_test_split(X,Y,test_size=.2,random_state=42)"
   ]
  },
  {
   "cell_type": "code",
   "execution_count": null,
   "metadata": {},
   "outputs": [],
   "source": []
  },
  {
   "cell_type": "code",
   "execution_count": 36,
   "metadata": {},
   "outputs": [
    {
     "name": "stdout",
     "output_type": "stream",
     "text": [
      "The accuracy score is with weaklerners 1: 0.7549668874172185\n",
      "The accuracy score is with weaklerners 2: 0.7715231788079471\n",
      "The accuracy score is with weaklerners 3: 0.7582781456953642\n",
      "The accuracy score is with weaklerners 4: 0.8410596026490066\n",
      "The accuracy score is with weaklerners 5: 0.8576158940397351\n",
      "The accuracy score is with weaklerners 6: 0.8609271523178808\n",
      "The accuracy score is with weaklerners 7: 0.8609271523178808\n",
      "The accuracy score is with weaklerners 8: 0.8609271523178808\n",
      "The accuracy score is with weaklerners 9: 0.8642384105960265\n",
      "The accuracy score is with weaklerners 10: 0.8543046357615894\n",
      "The accuracy score is with weaklerners 11: 0.8708609271523179\n",
      "The accuracy score is with weaklerners 12: 0.8940397350993378\n",
      "The accuracy score is with weaklerners 13: 0.8940397350993378\n",
      "The accuracy score is with weaklerners 14: 0.9006622516556292\n",
      "The accuracy score is with weaklerners 15: 0.9205298013245033\n",
      "The accuracy score is with weaklerners 16: 0.9139072847682119\n"
     ]
    },
    {
     "data": {
      "image/png": "[encoded data removed]",
      "text/plain": [
       "<Figure size 432x288 with 1 Axes>"
      ]
     },
     "metadata": {
      "needs_background": "light"
     },
     "output_type": "display_data"
    }
   ],
   "source": [
    "from sklearn.ensemble import AdaBoostClassifier\n",
    "dt=DecisionTreeClassifier(max_depth=1)\n",
    "weakLearner=[]\n",
    "accuracy=[]\n",
    "for i in range(1,17):\n",
    "    weakLearner.append(i)\n",
    "    abc=AdaBoostClassifier(base_estimator=dt,n_estimators=i)\n",
    "    abc.fit(X_train,Y_train.values.ravel())\n",
    "    Y_pred=abc.predict(X_test)\n",
    "    accuracy.append(accuracy_score(Y_pred,Y_test)*100)\n",
    "    print(\"The accuracy score is with weaklerners {}: {}\".format(i,accuracy_score(Y_pred,Y_test)))\n",
    "\n",
    "import matplotlib.pyplot as plt\n",
    "plt.scatter(weakLearner,accuracy)\n",
    "plt.xlabel(\"Number of weak learners\")\n",
    "plt.ylabel(\"Test accuracy (in %)\")\n",
    "plt.show()"
   ]
  },
  {
   "cell_type": "code",
   "execution_count": 37,
   "metadata": {},
   "outputs": [
    {
     "name": "stdout",
     "output_type": "stream",
     "text": [
      "The accuracy score is with weaklerners 1: 0.847682119205298\n",
      "The accuracy score is with weaklerners 2: 0.9072847682119205\n",
      "The accuracy score is with weaklerners 3: 0.9039735099337748\n",
      "The accuracy score is with weaklerners 4: 0.9238410596026491\n",
      "The accuracy score is with weaklerners 5: 0.9139072847682119\n",
      "The accuracy score is with weaklerners 6: 0.9238410596026491\n",
      "The accuracy score is with weaklerners 7: 0.9370860927152318\n",
      "The accuracy score is with weaklerners 8: 0.9470198675496688\n",
      "The accuracy score is with weaklerners 9: 0.9403973509933775\n",
      "The accuracy score is with weaklerners 10: 0.9370860927152318\n",
      "The accuracy score is with weaklerners 11: 0.9470198675496688\n",
      "The accuracy score is with weaklerners 12: 0.9503311258278145\n",
      "The accuracy score is with weaklerners 13: 0.9503311258278145\n",
      "The accuracy score is with weaklerners 14: 0.9536423841059603\n",
      "The accuracy score is with weaklerners 15: 0.9602649006622517\n",
      "The accuracy score is with weaklerners 16: 0.9668874172185431\n"
     ]
    },
    {
     "data": {
      "image/png": "[encoded data removed]",
      "text/plain": [
       "<Figure size 432x288 with 1 Axes>"
      ]
     },
     "metadata": {
      "needs_background": "light"
     },
     "output_type": "display_data"
    }
   ],
   "source": [
    "from sklearn.ensemble import AdaBoostClassifier\n",
    "dt=DecisionTreeClassifier(max_depth=2)\n",
    "weakLearner=[]\n",
    "accuracy=[]\n",
    "for i in range(1,17):\n",
    "    weakLearner.append(i)\n",
    "    abc=AdaBoostClassifier(base_estimator=dt,n_estimators=i)\n",
    "    abc.fit(X_train,Y_train.values.ravel())\n",
    "    Y_pred=abc.predict(X_test)\n",
    "    accuracy.append(accuracy_score(Y_pred,Y_test)*100)\n",
    "    print(\"The accuracy score is with weaklerners {}: {}\".format(i,accuracy_score(Y_pred,Y_test)))\n",
    "\n",
    "import matplotlib.pyplot as plt\n",
    "plt.scatter(weakLearner,accuracy)\n",
    "plt.xlabel(\"Number of weak learners\")\n",
    "plt.ylabel(\"Test accuracy (in %)\")\n",
    "plt.show()"
   ]
  },
  {
   "cell_type": "code",
   "execution_count": null,
   "metadata": {},
   "outputs": [],
   "source": []
  }
 ],
 "metadata": {
  "kernelspec": {
   "display_name": "Python 3",
   "language": "python",
   "name": "python3"
  },
  "language_info": {
   "codemirror_mode": {
    "name": "ipython",
    "version": 3
   },
   "file_extension": ".py",
   "mimetype": "text/x-python",
   "name": "python",
   "nbconvert_exporter": "python",
   "pygments_lexer": "ipython3",
   "version": "3.7.6"
  }
 },
 "nbformat": 4,
 "nbformat_minor": 4
}
