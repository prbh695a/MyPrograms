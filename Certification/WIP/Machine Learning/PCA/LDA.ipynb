{
 "cells": [
  {
   "cell_type": "code",
   "execution_count": 102,
   "metadata": {},
   "outputs": [
    {
     "name": "stdout",
     "output_type": "stream",
     "text": [
      "The number of components before LDA: 64\n",
      "The number of components after LDA: 9\n"
     ]
    }
   ],
   "source": [
    "import pandas as pd\n",
    "import numpy as np\n",
    "from sklearn.datasets import load_digits\n",
    "import matplotlib.pyplot as plt\n",
    "from sklearn.model_selection import train_test_split\n",
    "from sklearn.linear_model import LogisticRegression\n",
    "from sklearn.metrics import accuracy_score\n",
    "digits=load_digits()\n",
    "\n",
    "from sklearn.discriminant_analysis import LinearDiscriminantAnalysis\n",
    "\n",
    "X=digits.data\n",
    "Y=digits.target\n",
    "X_train,X_test,Y_train,Y_test=train_test_split(X,Y,test_size=.20,random_state=42)\n",
    "print(\"The number of components before LDA:\",X_train.shape[1])\n",
    "\n",
    "lda=LinearDiscriminantAnalysis()\n",
    "lda.fit(X_train,Y_train)\n",
    "X_train=lda.transform(X_train)\n",
    "X_test=lda.transform(X_test)\n",
    "print(\"The number of components after LDA:\",X_train.shape[1])"
   ]
  },
  {
   "cell_type": "code",
   "execution_count": 103,
   "metadata": {},
   "outputs": [
    {
     "name": "stdout",
     "output_type": "stream",
     "text": [
      "The training accuracy is:  0.9812108559498957\n",
      "The test accuracy is:  0.9472222222222222\n",
      "For this model the accuracy with PCA is slightly better than LDA\n"
     ]
    }
   ],
   "source": [
    "\n",
    "\n",
    "lr=LogisticRegression(max_iter=10000)\n",
    "lr.fit(X_train,Y_train)\n",
    "Y_pred=lr.predict(X_test)\n",
    "Y_pred_training=lr.predict(X_train)\n",
    "\n",
    "print(\"The training accuracy is: \",accuracy_score(Y_pred_training,Y_train))\n",
    "print(\"The test accuracy is: \",accuracy_score(Y_pred,Y_test))\n",
    "print(\"For this model the accuracy with PCA is slightly better than LDA\")"
   ]
  },
  {
   "cell_type": "code",
   "execution_count": null,
   "metadata": {},
   "outputs": [],
   "source": []
  },
  {
   "cell_type": "code",
   "execution_count": null,
   "metadata": {},
   "outputs": [],
   "source": []
  },
  {
   "cell_type": "code",
   "execution_count": null,
   "metadata": {},
   "outputs": [],
   "source": []
  },
  {
   "cell_type": "code",
   "execution_count": null,
   "metadata": {},
   "outputs": [],
   "source": []
  }
 ],
 "metadata": {
  "kernelspec": {
   "display_name": "Python 3",
   "language": "python",
   "name": "python3"
  },
  "language_info": {
   "codemirror_mode": {
    "name": "ipython",
    "version": 3
   },
   "file_extension": ".py",
   "mimetype": "text/x-python",
   "name": "python",
   "nbconvert_exporter": "python",
   "pygments_lexer": "ipython3",
   "version": "3.7.6"
  }
 },
 "nbformat": 4,
 "nbformat_minor": 4
}
