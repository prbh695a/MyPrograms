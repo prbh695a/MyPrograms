{
 "cells": [
  {
   "cell_type": "code",
   "execution_count": 5,
   "metadata": {},
   "outputs": [
    {
     "name": "stdout",
     "output_type": "stream",
     "text": [
      "[12, 23, 38, 45, 59, 66]\n",
      "[1, 2, 3, 4, 5, 6, 7, 8, 9, 10]\n",
      "[2, 3, 5, 8, 9, 11, 23, 38, 45, 166]\n"
     ]
    }
   ],
   "source": [
    "def insertionSort(a):\n",
    "    for i in range(1,len(a)):\n",
    "        temp=a[i]\n",
    "        j=i-1\n",
    "        while(j>=0 and a[j]>temp):\n",
    "            a[j+1]=a[j]\n",
    "            j=j-1\n",
    "        a[j+1]=temp\n",
    "\n",
    "        #print(a)  \n",
    "\n",
    "    return a\n",
    "\n",
    "uList=[45,38,59,12,66,23]\n",
    "sList=insertionSort(uList)\n",
    "print(sList)\n",
    "\n",
    "uList=[10,9,8,7,6,5,4,3,2,1]\n",
    "sList=insertionSort(uList)\n",
    "print(sList)\n",
    "\n",
    "\n",
    "uList=[2,3,5,38,11,8,9,166,45,23]\n",
    "sList=insertionSort(uList)\n",
    "print(sList)\n",
    "\n"
   ]
  },
  {
   "cell_type": "code",
   "execution_count": null,
   "metadata": {},
   "outputs": [],
   "source": []
  }
 ],
 "metadata": {
  "kernelspec": {
   "display_name": "Python 3",
   "language": "python",
   "name": "python3"
  },
  "language_info": {
   "codemirror_mode": {
    "name": "ipython",
    "version": 3
   },
   "file_extension": ".py",
   "mimetype": "text/x-python",
   "name": "python",
   "nbconvert_exporter": "python",
   "pygments_lexer": "ipython3",
   "version": "3.7.6"
  }
 },
 "nbformat": 4,
 "nbformat_minor": 4
}
