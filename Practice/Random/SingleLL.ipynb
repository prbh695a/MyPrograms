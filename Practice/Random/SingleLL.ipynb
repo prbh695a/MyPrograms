{
 "cells": [
  {
   "cell_type": "code",
   "execution_count": 41,
   "metadata": {},
   "outputs": [],
   "source": [
    "class Node:\n",
    "    def __init__(self,value):\n",
    "        self.next=None\n",
    "        self.value=value"
   ]
  },
  {
   "cell_type": "code",
   "execution_count": 42,
   "metadata": {},
   "outputs": [],
   "source": [
    "class stack:\n",
    "    def __init__(self):\n",
    "        self.start=None\n",
    "        \n",
    "    def push(self,value):\n",
    "        node=Node(value)\n",
    "        if(self.start==None):\n",
    "            self.start=node\n",
    "        else:\n",
    "            p=self.start\n",
    "            while(p.next!=None):\n",
    "                p=p.next\n",
    "            p.next=node\n",
    "            \n",
    "    def displaySList(self):\n",
    "        p=self.start\n",
    "        while(p!=None):\n",
    "            print(p.value ,end = ' ')\n",
    "            p=p.next\n",
    "\n",
    "    def display(self):\n",
    "        p=self.start\n",
    "        while(p.next.next!=None):\n",
    "            p=p.next        \n",
    "        p.next=None"
   ]
  },
  {
   "cell_type": "code",
   "execution_count": 43,
   "metadata": {},
   "outputs": [
    {
     "name": "stdout",
     "output_type": "stream",
     "text": [
      "1 2 3 4 5 6 \n",
      "After Deletion\n",
      "1 2 3 "
     ]
    }
   ],
   "source": [
    "s=singleLL()\n",
    "s.addNode(1)\n",
    "s.addNode(2)\n",
    "s.addNode(3)\n",
    "s.addNode(4)\n",
    "s.addNode(5)\n",
    "s.addNode(6)\n",
    "s.displaySList()\n",
    "print(\"\\nAfter Deletion\")\n",
    "s.deleteNode()\n",
    "s.deleteNode()\n",
    "s.deleteNode()\n",
    "s.displaySList()\n"
   ]
  },
  {
   "cell_type": "code",
   "execution_count": null,
   "metadata": {},
   "outputs": [],
   "source": []
  }
 ],
 "metadata": {
  "kernelspec": {
   "display_name": "Python 3",
   "language": "python",
   "name": "python3"
  },
  "language_info": {
   "codemirror_mode": {
    "name": "ipython",
    "version": 3
   },
   "file_extension": ".py",
   "mimetype": "text/x-python",
   "name": "python",
   "nbconvert_exporter": "python",
   "pygments_lexer": "ipython3",
   "version": "3.7.6"
  }
 },
 "nbformat": 4,
 "nbformat_minor": 4
}
