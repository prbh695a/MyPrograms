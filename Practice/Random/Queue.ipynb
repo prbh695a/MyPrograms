{
 "cells": [
  {
   "cell_type": "code",
   "execution_count": 6,
   "metadata": {},
   "outputs": [
    {
     "name": "stdout",
     "output_type": "stream",
     "text": [
      "1\n",
      "[2, 3, 4, 5]\n",
      "2\n",
      "[3, 4, 5]\n",
      "3\n",
      "[4, 5]\n"
     ]
    }
   ],
   "source": [
    "a=[]\n",
    "\n",
    "def add(value):\n",
    "    a.append(value)\n",
    "    \n",
    "def delete():\n",
    "    return(a.pop(0))\n",
    "add(1)\n",
    "add(2)\n",
    "add(3)\n",
    "add(4)\n",
    "add(5)\n",
    "print(delete())\n",
    "print(a)\n",
    "print(delete())\n",
    "print(a)\n",
    "print(delete())\n",
    "print(a)\n"
   ]
  },
  {
   "cell_type": "code",
   "execution_count": null,
   "metadata": {},
   "outputs": [],
   "source": []
  }
 ],
 "metadata": {
  "kernelspec": {
   "display_name": "Python 3",
   "language": "python",
   "name": "python3"
  },
  "language_info": {
   "codemirror_mode": {
    "name": "ipython",
    "version": 3
   },
   "file_extension": ".py",
   "mimetype": "text/x-python",
   "name": "python",
   "nbconvert_exporter": "python",
   "pygments_lexer": "ipython3",
   "version": "3.7.6"
  }
 },
 "nbformat": 4,
 "nbformat_minor": 4
}
