{
 "cells": [
  {
   "cell_type": "code",
   "execution_count": 27,
   "metadata": {},
   "outputs": [],
   "source": [
    "import pandas as pd\n",
    "import numpy as np\n",
    "import matplotlib.pyplot as plt\n",
    "import seaborn as sns\n",
    "from sklearn.model_selection import train_test_split\n",
    "from sklearn.linear_model import LogisticRegression\n",
    "from sklearn import tree\n",
    "from sklearn.ensemble import RandomForestClassifier\n",
    "from sklearn.metrics import accuracy_score\n",
    "df=pd.read_csv(\"/Users/prateekb/Downloads/PythonPractice/Machine Learning/DecisionTree/loan_borowwer_data.csv\")\n",
    "df.purpose=pd.Categorical(df.purpose)\n",
    "df['purpose']=df.purpose.cat.codes\n",
    "x=df.iloc[:,0:13]\n",
    "x=x.drop(['purpose'],axis=1)\n",
    "y=df['not.fully.paid']\n",
    "X_train,X_test,Y_train,Y_test=train_test_split(x,y,test_size=.20,random_state=43)"
   ]
  },
  {
   "cell_type": "code",
   "execution_count": 28,
   "metadata": {},
   "outputs": [
    {
     "name": "stdout",
     "output_type": "stream",
     "text": [
      "The train accuracy score is:  0.8395980161837641\n",
      "The test accuracy score is:  0.8345511482254697\n"
     ]
    },
    {
     "name": "stderr",
     "output_type": "stream",
     "text": [
      "/Users/prateekb/anaconda3/lib/python3.7/site-packages/sklearn/linear_model/_logistic.py:940: ConvergenceWarning: lbfgs failed to converge (status=1):\n",
      "STOP: TOTAL NO. of ITERATIONS REACHED LIMIT.\n",
      "\n",
      "Increase the number of iterations (max_iter) or scale the data as shown in:\n",
      "    https://scikit-learn.org/stable/modules/preprocessing.html\n",
      "Please also refer to the documentation for alternative solver options:\n",
      "    https://scikit-learn.org/stable/modules/linear_model.html#logistic-regression\n",
      "  extra_warning_msg=_LOGISTIC_SOLVER_CONVERGENCE_MSG)\n"
     ]
    }
   ],
   "source": [
    "lr=LogisticRegression()\n",
    "lr.fit(X_train,Y_train)\n",
    "Y_pred=lr.predict(X_test)\n",
    "Y_pred_train=lr.predict(X_train)\n",
    "\n",
    "print(\"The train accuracy score is: \",accuracy_score(Y_pred_train,Y_train))\n",
    "print(\"The test accuracy score is: \",accuracy_score(Y_pred,Y_test))"
   ]
  },
  {
   "cell_type": "code",
   "execution_count": 29,
   "metadata": {},
   "outputs": [
    {
     "name": "stdout",
     "output_type": "stream",
     "text": [
      "The train accuracy score is:  1.0\n",
      "The test accuracy score is:  0.7291231732776617\n"
     ]
    }
   ],
   "source": [
    "dt=tree.DecisionTreeClassifier()\n",
    "dt.fit(X_train,Y_train)\n",
    "Y_pred=dt.predict(X_test)\n",
    "Y_pred_train=dt.predict(X_train)\n",
    "\n",
    "print(\"The train accuracy score is: \",accuracy_score(Y_pred_train,Y_train))\n",
    "print(\"The test accuracy score is: \",accuracy_score(Y_pred,Y_test))\n"
   ]
  },
  {
   "cell_type": "code",
   "execution_count": 30,
   "metadata": {},
   "outputs": [
    {
     "name": "stdout",
     "output_type": "stream",
     "text": [
      "The train accuracy score is:  1.0\n",
      "The test accuracy score is:  0.8361169102296451\n",
      "Random Forest gives better test accuracy\n"
     ]
    }
   ],
   "source": [
    "rm=RandomForestClassifier()\n",
    "rm.fit(X_train,Y_train)\n",
    "Y_pred=rm.predict(X_test)\n",
    "Y_pred_train=rm.predict(X_train)\n",
    "\n",
    "print(\"The train accuracy score is: \",accuracy_score(Y_pred_train,Y_train))\n",
    "print(\"The test accuracy score is: \",accuracy_score(Y_pred,Y_test))\n",
    "\n",
    "print(\"Random Forest gives better test accuracy\")"
   ]
  },
  {
   "cell_type": "code",
   "execution_count": null,
   "metadata": {},
   "outputs": [],
   "source": []
  }
 ],
 "metadata": {
  "kernelspec": {
   "display_name": "Python 3",
   "language": "python",
   "name": "python3"
  },
  "language_info": {
   "codemirror_mode": {
    "name": "ipython",
    "version": 3
   },
   "file_extension": ".py",
   "mimetype": "text/x-python",
   "name": "python",
   "nbconvert_exporter": "python",
   "pygments_lexer": "ipython3",
   "version": "3.7.6"
  }
 },
 "nbformat": 4,
 "nbformat_minor": 4
}
