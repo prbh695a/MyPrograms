{
 "cells": [
  {
   "cell_type": "code",
   "execution_count": 75,
   "metadata": {},
   "outputs": [],
   "source": [
    "import pandas as pd\n",
    "import numpy as np\n",
    "import seaborn as sns\n",
    "import matplotlib.pyplot as plt\n",
    "from sklearn.model_selection import train_test_split\n",
    "from sklearn import tree\n",
    "from sklearn.metrics import accuracy_score\n",
    "from sklearn.impute import SimpleImputer\n",
    "from sklearn.ensemble import RandomForestClassifier\n",
    "df=pd.read_csv(\"/Users/prateekb/Downloads/PythonPractice/Machine Learning/DecisionTree/horse.csv\")\n",
    "\n",
    "im=SimpleImputer(strategy='most_frequent')\n",
    "im=im.fit(df)\n",
    "df[:]=im.transform(df)\n",
    "\n",
    "dummy=pd.get_dummies(df[['surgery', 'age','temp_of_extremities','peripheral_pulse',\n",
    "                           'mucous_membrane','capillary_refill_time','pain','peristalsis',\n",
    "                           'abdominal_distention','nasogastric_tube','nasogastric_reflux',\n",
    "                           'rectal_exam_feces','abdomen','abdomo_appearance','surgical_lesion','cp_data']])\n",
    "df=pd.concat([df,dummy],axis=1)\n",
    "\n",
    "df=df.drop(['surgery', 'age','temp_of_extremities','peripheral_pulse',\n",
    "                           'mucous_membrane','capillary_refill_time','pain','peristalsis',\n",
    "                           'abdominal_distention','nasogastric_tube','nasogastric_reflux',\n",
    "                           'rectal_exam_feces','abdomen','abdomo_appearance','surgical_lesion','cp_data'],axis=1)\n",
    "\n",
    "df.outcome=pd.Categorical(df.outcome)\n",
    "df['outcome']=df.outcome.cat.codes\n",
    "\n",
    "x=df.drop(['outcome'],axis=1)\n",
    "y=df['outcome']\n",
    "\n",
    "X_train,X_test,Y_train,Y_test=train_test_split(x,y,test_size=.2,random_state=81)"
   ]
  },
  {
   "cell_type": "code",
   "execution_count": null,
   "metadata": {},
   "outputs": [],
   "source": []
  },
  {
   "cell_type": "code",
   "execution_count": null,
   "metadata": {},
   "outputs": [],
   "source": []
  },
  {
   "cell_type": "code",
   "execution_count": null,
   "metadata": {},
   "outputs": [],
   "source": []
  },
  {
   "cell_type": "code",
   "execution_count": 76,
   "metadata": {},
   "outputs": [
    {
     "name": "stdout",
     "output_type": "stream",
     "text": [
      "The training accuracy score is:  1.0\n",
      "The test accuracy score is:  0.65\n"
     ]
    }
   ],
   "source": [
    "dt=tree.DecisionTreeClassifier()\n",
    "dt.fit(X_train,Y_train)\n",
    "Y_pred=dt.predict(X_test)\n",
    "Y_pred_train=dt.predict(X_train)\n",
    "\n",
    "print(\"The training accuracy score is: \",accuracy_score(Y_train,Y_pred_train))\n",
    "print(\"The test accuracy score is: \",accuracy_score(Y_test,Y_pred))"
   ]
  },
  {
   "cell_type": "code",
   "execution_count": 77,
   "metadata": {},
   "outputs": [
    {
     "name": "stdout",
     "output_type": "stream",
     "text": [
      "The training accuracy score is:  1.0\n",
      "The test accuracy score is:  0.7\n"
     ]
    }
   ],
   "source": [
    "rf=RandomForestClassifier()\n",
    "rf.fit(X_train,Y_train)\n",
    "Y_pred=rf.predict(X_test)\n",
    "Y_pred_train=rf.predict(X_train)\n",
    "\n",
    "print(\"The training accuracy score is: \",accuracy_score(Y_train,Y_pred_train))\n",
    "print(\"The test accuracy score is: \",accuracy_score(Y_test,Y_pred))"
   ]
  },
  {
   "cell_type": "code",
   "execution_count": null,
   "metadata": {},
   "outputs": [],
   "source": []
  }
 ],
 "metadata": {
  "kernelspec": {
   "display_name": "Python 3",
   "language": "python",
   "name": "python3"
  },
  "language_info": {
   "codemirror_mode": {
    "name": "ipython",
    "version": 3
   },
   "file_extension": ".py",
   "mimetype": "text/x-python",
   "name": "python",
   "nbconvert_exporter": "python",
   "pygments_lexer": "ipython3",
   "version": "3.7.6"
  }
 },
 "nbformat": 4,
 "nbformat_minor": 4
}
