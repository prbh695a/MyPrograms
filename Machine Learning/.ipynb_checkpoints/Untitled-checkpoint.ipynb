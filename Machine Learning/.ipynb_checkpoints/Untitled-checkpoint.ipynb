{
 "cells": [
  {
   "cell_type": "code",
   "execution_count": 4,
   "metadata": {},
   "outputs": [
    {
     "name": "stdout",
     "output_type": "stream",
     "text": [
      "             Name  Score  Age         Ethinicity Subject Sex  ID\n",
      "0  AI-KYUNG CHUNG   88.0   18     White American   Maths   M   1\n",
      "1     ALAN HARVEY   85.0   19  European American   Maths   M   2\n",
      "2    ALAN REYNAUD   45.0   19  European American   Maths   M   3\n",
      "3  ALBERT CENDANA   82.0   18     White American   Maths   M   4\n",
      "4  ALBERT HOLT JR   82.0   18     White American   Maths   F   5\n",
      "             Name  Score  Age         Ethinicity        Subject Sex  ID\n",
      "0  AI-KYUNG CHUNG   82.0   18     White American  Data Structue   M   1\n",
      "1     ALAN HARVEY   79.0   19  European American  Data Structue   M   2\n",
      "2    ALAN REYNAUD   39.0   19  European American  Data Structue   M   3\n",
      "3  ALBERT CENDANA   76.0   18     White American  Data Structue   M   4\n",
      "4  ALBERT HOLT JR   76.0   18     White American  Data Structue   F   5\n",
      "             Name  Score  Age         Ethinicity  Subject Sex  ID\n",
      "0  AI-KYUNG CHUNG   84.0   18     White American  Physics   M   1\n",
      "1     ALAN HARVEY   81.0   19  European American  Physics   M   2\n",
      "2    ALAN REYNAUD   41.0   19  European American  Physics   M   3\n",
      "3  ALBERT CENDANA   78.0   18     White American  Physics   M   4\n",
      "4  ALBERT HOLT JR   78.0   18     White American  Physics   F   5\n",
      "Empty DataFrame\n",
      "Columns: [Score, Age, Subject, Sex, ID]\n",
      "Index: []\n"
     ]
    },
    {
     "name": "stderr",
     "output_type": "stream",
     "text": [
      "/Users/prateekb/anaconda3/lib/python3.7/site-packages/pandas/core/ops/array_ops.py:253: FutureWarning: elementwise comparison failed; returning scalar instead, but in the future will perform elementwise comparison\n",
      "  res_values = method(rvalues)\n"
     ]
    }
   ],
   "source": [
    "import pandas as pd\n",
    "import matplotlib.pyplot as plt\n",
    "import seaborn as sns\n",
    "dfMaths = pd.read_csv('/Users/prateekb/Downloads/Dataset/MathScoreTerm1.csv')\n",
    "dfDS = pd.read_csv('/Users/prateekb/Downloads/Dataset/DSScoreTerm1.csv')\n",
    "dfPhysics = pd.read_csv('/Users/prateekb/Downloads/Dataset/PhysicsScoreTerm1.csv')\n",
    "print(dfMaths.head())\n",
    "print(dfDS.head())\n",
    "print(dfPhysics.head())\n",
    "\n",
    "dfMaths=dfMaths.drop(columns=['Name','Ethinicity'])\n",
    "dfDS=dfDS.drop(columns=['Name','Ethinicity'])\n",
    "dfPhysics=dfPhysics.drop(columns=['Name','Ethinicity'])\n",
    "\n",
    "\n"
   ]
  },
  {
   "cell_type": "code",
   "execution_count": 9,
   "metadata": {},
   "outputs": [
    {
     "name": "stdout",
     "output_type": "stream",
     "text": [
      "3\n",
      "3\n"
     ]
    }
   ],
   "source": [
    "print(dfMaths['Score'].isnull().sum())\n",
    "dfMaths.replace(to_replace = NULL, value =0) \n",
    "print(dfMaths['Score'].isnull().sum())\n"
   ]
  },
  {
   "cell_type": "code",
   "execution_count": null,
   "metadata": {},
   "outputs": [],
   "source": []
  },
  {
   "cell_type": "code",
   "execution_count": null,
   "metadata": {},
   "outputs": [],
   "source": []
  },
  {
   "cell_type": "code",
   "execution_count": null,
   "metadata": {},
   "outputs": [],
   "source": []
  },
  {
   "cell_type": "code",
   "execution_count": null,
   "metadata": {},
   "outputs": [],
   "source": []
  },
  {
   "cell_type": "code",
   "execution_count": null,
   "metadata": {},
   "outputs": [],
   "source": []
  }
 ],
 "metadata": {
  "kernelspec": {
   "display_name": "Python 3",
   "language": "python",
   "name": "python3"
  },
  "language_info": {
   "codemirror_mode": {
    "name": "ipython",
    "version": 3
   },
   "file_extension": ".py",
   "mimetype": "text/x-python",
   "name": "python",
   "nbconvert_exporter": "python",
   "pygments_lexer": "ipython3",
   "version": "3.7.6"
  }
 },
 "nbformat": 4,
 "nbformat_minor": 4
}
