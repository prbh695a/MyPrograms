{
 "cells": [
  {
   "cell_type": "code",
   "execution_count": 439,
   "metadata": {},
   "outputs": [],
   "source": [
    "import numpy as np\n",
    "import pandas as pd\n",
    "import matplotlib.pyplot as plt\n",
    "f = open(\"names.txt\", \"w\")\n",
    "f.write(\"Anil\\nsunita\\nsuman\\nlokesh\\nSumita\\nJohn\\nJohny\\n\")\n",
    "f.close()\n",
    "\n",
    "f = open(\"body.txt\", \"w\")\n",
    "f.write(\"I am going to Delhi.\\nLets meet on 7th Jan 2018\\nHave a great day\\nRegards\\nTeam Victory\\n\")\n",
    "f.close()\n",
    "\n",
    "f = open(\"names.txt\", \"r\")\n",
    "b = open(\"body.txt\", \"r\")\n",
    "body = b.read()\n",
    "for i in f.read().split(\"\\n\"):\n",
    "    f = open(i + \".txt\", \"w\")\n",
    "    f.write(\"Hello \" + i + \",\\n\")\n",
    "    f.write(body)\n",
    "    f.close()"
   ]
  },
  {
   "cell_type": "code",
   "execution_count": 432,
   "metadata": {},
   "outputs": [
    {
     "name": "stdout",
     "output_type": "stream",
     "text": [
      "   float_col  int_col str_col  some_val\n",
      "0        0.1        1       a         1\n",
      "1        NaN       -1       a         1\n",
      "2        0.2        2       b         2\n",
      "   float_col  int_col str_col  some_val\n",
      "0        0.1        1       a       1.0\n",
      "1        NaN       -1       a       1.0\n",
      "2        0.2        2       b       2.0\n",
      "3        0.2        6    None       NaN\n",
      "4       10.1        8       c       NaN\n",
      "   float_col  int_col str_col  some_val\n",
      "0        0.1        1       a       1.0\n",
      "1        0.2        2       b       2.0\n",
      "2        0.2        6    None       NaN\n",
      "3       10.1        8       c       NaN\n",
      "4        NaN       -1       a       1.0\n",
      "   float_col  int_col str_col  some_val\n",
      "0        0.1        1       a         1\n",
      "1        NaN       -1       a         1\n",
      "2        0.2        2       b         2\n"
     ]
    }
   ],
   "source": [
    "ndf=pd.DataFrame({'some_val':[1,2],\n",
    "                 'str_col':['a','b']\n",
    "    \n",
    "})\n",
    "print(df.merge(ndf,how='inner'))\n",
    "print(df.merge(ndf,how='outer'))\n",
    "print(df.merge(ndf,how='left'))\n",
    "print(df.merge(ndf,how='right'))"
   ]
  },
  {
   "cell_type": "code",
   "execution_count": 428,
   "metadata": {},
   "outputs": [
    {
     "name": "stdout",
     "output_type": "stream",
     "text": [
      "           float_col   int_col\n",
      "float_col   1.000000  0.760678\n",
      "int_col     0.760678  1.000000\n"
     ]
    }
   ],
   "source": []
  },
  {
   "cell_type": "code",
   "execution_count": null,
   "metadata": {},
   "outputs": [],
   "source": []
  },
  {
   "cell_type": "code",
   "execution_count": null,
   "metadata": {},
   "outputs": [],
   "source": []
  },
  {
   "cell_type": "code",
   "execution_count": null,
   "metadata": {},
   "outputs": [],
   "source": []
  },
  {
   "cell_type": "code",
   "execution_count": null,
   "metadata": {},
   "outputs": [],
   "source": []
  },
  {
   "cell_type": "code",
   "execution_count": null,
   "metadata": {},
   "outputs": [],
   "source": []
  },
  {
   "cell_type": "code",
   "execution_count": null,
   "metadata": {},
   "outputs": [],
   "source": []
  },
  {
   "cell_type": "code",
   "execution_count": null,
   "metadata": {},
   "outputs": [],
   "source": []
  },
  {
   "cell_type": "code",
   "execution_count": null,
   "metadata": {},
   "outputs": [],
   "source": []
  },
  {
   "cell_type": "code",
   "execution_count": null,
   "metadata": {},
   "outputs": [],
   "source": []
  }
 ],
 "metadata": {
  "kernelspec": {
   "display_name": "Python 3",
   "language": "python",
   "name": "python3"
  },
  "language_info": {
   "codemirror_mode": {
    "name": "ipython",
    "version": 3
   },
   "file_extension": ".py",
   "mimetype": "text/x-python",
   "name": "python",
   "nbconvert_exporter": "python",
   "pygments_lexer": "ipython3",
   "version": "3.7.6"
  }
 },
 "nbformat": 4,
 "nbformat_minor": 4
}
