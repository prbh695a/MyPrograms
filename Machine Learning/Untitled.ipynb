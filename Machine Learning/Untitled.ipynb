{
 "cells": [
  {
   "cell_type": "code",
   "execution_count": 527,
   "metadata": {},
   "outputs": [
    {
     "name": "stdout",
     "output_type": "stream",
     "text": [
      "        IncidntNum  Category                        Descript  DayOfWeek  \\\n",
      "1653     160073036  GAMBLING                        GAMBLING    Tuesday   \n",
      "21045    160507035  GAMBLING  POSSESSION OF GAMBLING DEVICES  Wednesday   \n",
      "25639    160831301  GAMBLING                        GAMBLING  Wednesday   \n",
      "36736    160523809  GAMBLING                        GAMBLING    Tuesday   \n",
      "36832    160353844  GAMBLING                        GAMBLING   Saturday   \n",
      "42893    160809728  GAMBLING                        GAMBLING  Wednesday   \n",
      "51216    160519789  GAMBLING  POSSESSION OF GAMBLING DEVICES     Sunday   \n",
      "70994    160732903  GAMBLING                        GAMBLING     Friday   \n",
      "80547    160194018  GAMBLING                        GAMBLING     Sunday   \n",
      "82887    160480635  GAMBLING                        GAMBLING    Tuesday   \n",
      "90934    160506974  GAMBLING  POSSESSION OF GAMBLING DEVICES  Wednesday   \n",
      "97793    160970642  GAMBLING                        GAMBLING    Tuesday   \n",
      "97794    160970642  GAMBLING  POSSESSION OF GAMBLING DEVICES    Tuesday   \n",
      "98632    160160940  GAMBLING                        GAMBLING    Tuesday   \n",
      "102150   160553486  GAMBLING                        GAMBLING     Friday   \n",
      "114781   160831185  GAMBLING                        GAMBLING  Wednesday   \n",
      "119686   160487380  GAMBLING                        GAMBLING  Wednesday   \n",
      "120195   160186601  GAMBLING  POSSESSION OF GAMBLING DEVICES   Thursday   \n",
      "127694   160059531  GAMBLING                        GAMBLING   Thursday   \n",
      "136134   160954787  GAMBLING                        GAMBLING  Wednesday   \n",
      "\n",
      "                          Date   Time  PdDistrict      Resolution  \\\n",
      "1653    01/26/2016 12:00:00 AM  00:30    SOUTHERN  ARREST, BOOKED   \n",
      "21045   06/22/2016 12:00:00 AM  18:35  TENDERLOIN            NONE   \n",
      "25639   10/12/2016 12:00:00 AM  11:07   INGLESIDE            NONE   \n",
      "36736   06/28/2016 12:00:00 AM  11:11  TENDERLOIN  ARREST, BOOKED   \n",
      "36832   04/30/2016 12:00:00 AM  15:40     BAYVIEW            NONE   \n",
      "42893   10/05/2016 12:00:00 AM  12:38     BAYVIEW  ARREST, BOOKED   \n",
      "51216   06/26/2016 12:00:00 AM  23:36     MISSION  ARREST, BOOKED   \n",
      "70994   09/09/2016 12:00:00 AM  15:31    SOUTHERN  ARREST, BOOKED   \n",
      "80547   03/06/2016 12:00:00 AM  15:23     BAYVIEW            NONE   \n",
      "82887   05/17/2016 12:00:00 AM  20:00   INGLESIDE            NONE   \n",
      "90934   06/22/2016 12:00:00 AM  18:19  TENDERLOIN            NONE   \n",
      "97793   11/29/2016 12:00:00 AM  11:55   INGLESIDE  ARREST, BOOKED   \n",
      "97794   11/29/2016 12:00:00 AM  11:55   INGLESIDE  ARREST, BOOKED   \n",
      "98632   02/23/2016 12:00:00 AM  20:47  TENDERLOIN  ARREST, BOOKED   \n",
      "102150  07/08/2016 12:00:00 AM  22:06    SOUTHERN  ARREST, BOOKED   \n",
      "114781  10/12/2016 12:00:00 AM  10:31   INGLESIDE            NONE   \n",
      "119686  06/15/2016 12:00:00 AM  20:07     BAYVIEW  ARREST, BOOKED   \n",
      "120195  03/03/2016 12:00:00 AM  19:30    SOUTHERN            NONE   \n",
      "127694  01/21/2016 12:00:00 AM  14:30     CENTRAL  ARREST, BOOKED   \n",
      "136134  11/23/2016 12:00:00 AM  14:29     MISSION  ARREST, BOOKED   \n",
      "\n",
      "                            Address           X          Y  \\\n",
      "1653              6TH ST / MINNA ST -122.408163  37.780535   \n",
      "21045         400 Block of ELLIS ST -122.413609  37.784697   \n",
      "25639      4100 Block of MISSION ST -122.429802  37.730382   \n",
      "36736   200 Block of LEAVENWORTH ST -122.414218  37.783259   \n",
      "36832          0 Block of HARBOR RD -122.378392  37.732331   \n",
      "42893           QUESADA AV / 3RD ST -122.391246  37.733225   \n",
      "51216         3200 Block of 23RD ST -122.416965  37.753990   \n",
      "70994        800 Block of MARKET ST -122.406521  37.785063   \n",
      "80547      1100 Block of OAKDALE AV -122.382193  37.729887   \n",
      "82887      5400 Block of MISSION ST -122.444209  37.713037   \n",
      "90934          400 Block of EDDY ST -122.415067  37.783563   \n",
      "97793      4100 Block of MISSION ST -122.429802  37.730382   \n",
      "97794      4100 Block of MISSION ST -122.429802  37.730382   \n",
      "98632          100 Block of EDDY ST -122.410135  37.784189   \n",
      "102150            6TH ST / MINNA ST -122.408163  37.780535   \n",
      "114781     5400 Block of MISSION ST -122.444209  37.713037   \n",
      "119686      0 Block of WHITFIELD CT -122.381838  37.731104   \n",
      "120195            0 Block of 6TH ST -122.408913  37.781212   \n",
      "127694     JEFFERSON ST / TAYLOR ST -122.415806  37.808212   \n",
      "136134         16TH ST / MISSION ST -122.419672  37.765050   \n",
      "\n",
      "                                         Location            PdId  \n",
      "1653    (37.780534538527796, -122.40816295385729)  16007303666010  \n",
      "21045    (37.78469690790397, -122.41360932898489)  16050703566030  \n",
      "25639   (37.730381954859084, -122.42980166876418)  16083130166010  \n",
      "36736     (37.78325932950251, -122.4142178043224)  16052380966010  \n",
      "36832      (37.7323312464378, -122.3783922575336)  16035384466010  \n",
      "42893   (37.733225203280426, -122.39124562301932)  16080972866010  \n",
      "51216    (37.75398968358595, -122.41696492285155)  16051978966030  \n",
      "70994    (37.785062942166064, -122.4065209871443)  16073290366010  \n",
      "80547    (37.72988742723255, -122.38219258397295)  16019401866010  \n",
      "82887     (37.71303717611918, -122.4442086847854)  16048063566010  \n",
      "90934    (37.78356347963316, -122.41506687647006)  16050697466030  \n",
      "97793   (37.730381954859084, -122.42980166876418)  16097064266010  \n",
      "97794   (37.730381954859084, -122.42980166876418)  16097064266030  \n",
      "98632    (37.78418890752673, -122.41013523637663)  16016094066010  \n",
      "102150  (37.780534538527796, -122.40816295385729)  16055348666010  \n",
      "114781    (37.71303717611918, -122.4442086847854)  16083118566010  \n",
      "119686   (37.73110435323625, -122.38183793030042)  16048738066010  \n",
      "120195   (37.78121165076627, -122.40891322980787)  16018660166030  \n",
      "127694   (37.80821200645997, -122.41580571058982)  16005953166010  \n",
      "136134   (37.76505012146682, -122.41967178029562)  16095478766010  \n"
     ]
    }
   ],
   "source": [
    "import numpy as np\n",
    "import pandas as pd\n",
    "import matplotlib.pyplot as plt\n",
    "import folium\n",
    "df=pd.read_csv(\"/Users/prateekb/Downloads/PythonPractice/Machine Learning/Police_Department_Incidents_Year_2016_.csv\")\n",
    "print(df[df['Category']==\"GAMBLING\"])\n",
    "\n"
   ]
  },
  {
   "cell_type": "code",
   "execution_count": 532,
   "metadata": {},
   "outputs": [],
   "source": [
    "rob=df[(df['Category']==\"FRAUD\") | (df['Category']==\"GAMBLING\")]\n",
    "rob=rob[['X','Y','Address','Date','Category']]\n",
    "rob=rob.sort_values(by=['Date'],ascending=False)\n",
    "last15days=rob.Date.unique()[0:15]\n",
    "index=[]\n",
    "for i,j in rob['Date'].iteritems():\n",
    "    if(j in last15days):\n",
    "        index.append(i)\n",
    "map=folium.Map(location=[37.775421, -122.403405],zoom_start=12,tiles=\"OpenStreetMap\")\n",
    "fg=folium.FeatureGroup(name=\"My Map\")\n",
    "iconName=\"https://fontawesome.com/icons/map-marker-alt?style=solid\"\n",
    "for i in index:\n",
    "    if (rob['Category'][i] == \"FRAUD\"):\n",
    "        colorName=\"green\"\n",
    "    else:\n",
    "        colorName=\"red\"\n",
    "    fg.add_child(folium.Marker(location=[rob['Y'][i],rob['X'][i]],popup=rob['Category'][i],icon=folium.Icon(color=colorName)))\n",
    "\n",
    "map.add_child(fg)\n",
    "map.save(\"fraud.html\")"
   ]
  },
  {
   "cell_type": "code",
   "execution_count": null,
   "metadata": {},
   "outputs": [],
   "source": []
  },
  {
   "cell_type": "code",
   "execution_count": 494,
   "metadata": {},
   "outputs": [],
   "source": []
  },
  {
   "cell_type": "code",
   "execution_count": null,
   "metadata": {},
   "outputs": [],
   "source": []
  },
  {
   "cell_type": "code",
   "execution_count": null,
   "metadata": {},
   "outputs": [],
   "source": []
  },
  {
   "cell_type": "code",
   "execution_count": null,
   "metadata": {},
   "outputs": [],
   "source": []
  },
  {
   "cell_type": "code",
   "execution_count": null,
   "metadata": {},
   "outputs": [],
   "source": []
  },
  {
   "cell_type": "code",
   "execution_count": null,
   "metadata": {},
   "outputs": [],
   "source": []
  },
  {
   "cell_type": "code",
   "execution_count": null,
   "metadata": {},
   "outputs": [],
   "source": []
  },
  {
   "cell_type": "code",
   "execution_count": null,
   "metadata": {},
   "outputs": [],
   "source": []
  },
  {
   "cell_type": "code",
   "execution_count": null,
   "metadata": {},
   "outputs": [],
   "source": []
  }
 ],
 "metadata": {
  "kernelspec": {
   "display_name": "Python 3",
   "language": "python",
   "name": "python3"
  },
  "language_info": {
   "codemirror_mode": {
    "name": "ipython",
    "version": 3
   },
   "file_extension": ".py",
   "mimetype": "text/x-python",
   "name": "python",
   "nbconvert_exporter": "python",
   "pygments_lexer": "ipython3",
   "version": "3.7.6"
  }
 },
 "nbformat": 4,
 "nbformat_minor": 4
}
