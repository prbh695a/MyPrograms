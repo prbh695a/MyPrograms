{
 "cells": [
  {
   "cell_type": "code",
   "execution_count": 41,
   "metadata": {},
   "outputs": [],
   "source": [
    "import pandas as pd\n",
    "import numpy as np\n",
    "import matplotlib.pyplot as plt\n",
    "import seaborn as sns\n",
    "from sklearn.model_selection import train_test_split\n",
    "from sklearn.linear_model import LogisticRegression\n",
    "df=pd.read_csv(\"/Users/prateekb/Downloads/PythonPractice/Machine Learning/PCA/breast-cancer-data.csv\")\n",
    "df['diagnosis']=df['diagnosis'].map({'M':1,'B':0})\n",
    "df=df.drop(['id'],axis=1)"
   ]
  },
  {
   "cell_type": "code",
   "execution_count": 42,
   "metadata": {},
   "outputs": [
    {
     "name": "stdout",
     "output_type": "stream",
     "text": [
      "The train accuracy score is:  0.9626373626373627\n",
      "The test accuracy score is:  0.956140350877193\n"
     ]
    }
   ],
   "source": [
    "X=df.iloc[:,1:31]\n",
    "Y=df['diagnosis']\n",
    "X_train,X_test,Y_train,Y_test=train_test_split(X,Y,test_size=0.2,random_state=42)\n",
    "lr=LogisticRegression(max_iter=10000)\n",
    "lr.fit(X_train,Y_train)\n",
    "Y_pred=lr.predict(X_test)\n",
    "Y_pred_train=lr.predict(X_train)\n",
    "\n",
    "from sklearn.metrics import accuracy_score\n",
    "print(\"The train accuracy score is: \",accuracy_score(Y_train,Y_pred_train))\n",
    "print(\"The test accuracy score is: \",accuracy_score(Y_test,Y_pred))\n"
   ]
  },
  {
   "cell_type": "code",
   "execution_count": 43,
   "metadata": {},
   "outputs": [],
   "source": [
    "from sklearn.preprocessing import StandardScaler\n",
    "ss=StandardScaler()\n",
    "ss.fit(X_train)\n",
    "X_train_s=ss.transform(X_train)\n",
    "X_test_s=ss.transform(X_test)"
   ]
  },
  {
   "cell_type": "code",
   "execution_count": 59,
   "metadata": {},
   "outputs": [
    {
     "name": "stdout",
     "output_type": "stream",
     "text": [
      "[0.43502782 0.19500007 0.09781519 0.06486409 0.05253378 0.041128\n",
      " 0.0223559  0.01647952 0.01380052 0.01205262]\n",
      "The train accuracy score is:  0.9846153846153847\n",
      "The test accuracy score is:  0.9824561403508771\n"
     ]
    }
   ],
   "source": [
    "from sklearn.decomposition import PCA\n",
    "pca=PCA(.95)\n",
    "pca.fit(X_train_s)\n",
    "X_train=pca.transform(X_train_s)\n",
    "X_test=pca.transform(X_test_s)\n",
    "\n",
    "lr=LogisticRegression(max_iter=10000)\n",
    "lr.fit(X_train,Y_train)\n",
    "Y_pred=lr.predict(X_test)\n",
    "Y_pred_train=lr.predict(X_train)\n",
    "from sklearn.metrics import accuracy_score\n",
    "print(\"The train accuracy score is: \",accuracy_score(Y_train,Y_pred_train))\n",
    "print(\"The test accuracy score is: \",accuracy_score(Y_test,Y_pred))"
   ]
  },
  {
   "cell_type": "code",
   "execution_count": 45,
   "metadata": {},
   "outputs": [
    {
     "name": "stdout",
     "output_type": "stream",
     "text": [
      "The train accuracy score is:  0.9802197802197802\n",
      "The test accuracy score is:  0.9473684210526315\n"
     ]
    }
   ],
   "source": [
    "from sklearn.discriminant_analysis import LinearDiscriminantAnalysis\n",
    "lda=LinearDiscriminantAnalysis()\n",
    "lda.fit(X_train_s,Y_train)\n",
    "X_train=lda.transform(X_train_s)\n",
    "X_test=lda.transform(X_test_s)\n",
    "\n",
    "lr=LogisticRegression(max_iter=10000)\n",
    "lr.fit(X_train,Y_train)\n",
    "Y_pred=lr.predict(X_test)\n",
    "Y_pred_train=lr.predict(X_train)\n",
    "\n",
    "from sklearn.metrics import accuracy_score\n",
    "print(\"The train accuracy score is: \",accuracy_score(Y_train,Y_pred_train))\n",
    "print(\"The test accuracy score is: \",accuracy_score(Y_test,Y_pred))"
   ]
  },
  {
   "cell_type": "code",
   "execution_count": null,
   "metadata": {},
   "outputs": [],
   "source": [
    "print(\"The best accuracy model is given by PCA with test accruacy of 98.24 percent\")"
   ]
  }
 ],
 "metadata": {
  "kernelspec": {
   "display_name": "Python 3",
   "language": "python",
   "name": "python3"
  },
  "language_info": {
   "codemirror_mode": {
    "name": "ipython",
    "version": 3
   },
   "file_extension": ".py",
   "mimetype": "text/x-python",
   "name": "python",
   "nbconvert_exporter": "python",
   "pygments_lexer": "ipython3",
   "version": "3.7.6"
  }
 },
 "nbformat": 4,
 "nbformat_minor": 4
}
